{
 "cells": [
  {
   "cell_type": "code",
   "execution_count": 1,
   "id": "5d7a6756",
   "metadata": {},
   "outputs": [],
   "source": [
    "import seaborn as sns # for correlation heatmap\n",
    "import numpy as np\n",
    "import pandas as pd\n",
    "import tensorflow as tf\n",
    "import xgboost as xgb\n",
    "import pushranker\n",
    "import datetime\n",
    "import snrf\n",
    "import importlib\n",
    "import random\n",
    "import pickle\n",
    "import collections\n",
    "from matplotlib import pyplot as plt\n",
    "from pathlib import Path\n",
    "from xgboost import XGBClassifier, XGBRegressor\n",
    "from sklearn.feature_extraction import DictVectorizer\n",
    "from sklearn.model_selection import KFold, train_test_split, GridSearchCV\n",
    "from sklearn.metrics import confusion_matrix, plot_confusion_matrix, roc_curve, auc, precision_recall_curve, average_precision_score\n",
    "from typing import List, Dict, Tuple\n",
    "from multiprocessing import Pool\n"
   ]
  },
  {
   "cell_type": "code",
   "execution_count": 3,
   "id": "5ef469f6",
   "metadata": {},
   "outputs": [
    {
     "name": "stdout",
     "output_type": "stream",
     "text": [
      "data/test/edition=en_US/push_type=scheduled/0517\n"
     ]
    }
   ],
   "source": [
    "push_type = 'scheduled' # local, targeted, scheduled\n",
    "test_day = '0517'\n",
    "\n",
    "LOCAL_DATA_ROOT = Path('./data/')\n",
    "# TRAIN_DATA_ROOT = str(LOCAL_DATA_ROOT / 'train' / 'edition=en_US' / f'push_type={push_type}') # / 'dt=2021-04-30-00')\n",
    "TEST_DATA_ROOT = str(LOCAL_DATA_ROOT / 'test' / 'edition=en_US' / f'push_type={push_type}' / test_day) # / 'dt=2021-05-01-00')\n",
    "\n",
    "training_format = snrf.package.get_obj_from_name(pushranker, 'survival_feature_spec.binarized_format')\n",
    "\n",
    "# input_module = pushranker.local_push\n",
    "input_module = importlib.import_module(f'pushranker.{push_type}_push')\n",
    "\n",
    "# print(TRAIN_DATA_ROOT)\n",
    "print(TEST_DATA_ROOT)"
   ]
  },
  {
   "cell_type": "markdown",
   "id": "a362cb7f",
   "metadata": {},
   "source": [
    "## Performance Evaluation among DNN rankers"
   ]
  },
  {
   "cell_type": "code",
   "execution_count": null,
   "id": "d74f96dd",
   "metadata": {},
   "outputs": [],
   "source": [
    "## DNN push-ranker\n",
    "dnn_model_name = f'original--{train_day}'\n",
    "hps = getattr(pushranker.hyperparam, push_type)\n",
    "dnn_model_1 = pushranker.model.make_model_assembly(hps, input_module.input_spec)\n",
    "dnn_model_1.hazard_model.load_weights(f'./model/{push_type}-push/DNN/{dnn_model_name}/pushranker')\n",
    "pushranker.model.initialize_for_training(dnn_model_1, hps)"
   ]
  },
  {
   "cell_type": "code",
   "execution_count": null,
   "id": "71c32eca",
   "metadata": {},
   "outputs": [],
   "source": [
    "dnn_pred = dnn_model_1.training_adapter.predict(test_ds)"
   ]
  }
 ],
 "metadata": {
  "kernelspec": {
   "display_name": "Python 3",
   "language": "python",
   "name": "python3"
  },
  "language_info": {
   "codemirror_mode": {
    "name": "ipython",
    "version": 3
   },
   "file_extension": ".py",
   "mimetype": "text/x-python",
   "name": "python",
   "nbconvert_exporter": "python",
   "pygments_lexer": "ipython3",
   "version": "3.7.10"
  }
 },
 "nbformat": 4,
 "nbformat_minor": 5
}
