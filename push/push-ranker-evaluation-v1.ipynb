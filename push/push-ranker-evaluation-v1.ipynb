{
 "cells": [
  {
   "cell_type": "markdown",
   "id": "7d565615",
   "metadata": {},
   "source": [
    "### Changes of v1:\n",
    "- remove the GBDT model training codes"
   ]
  },
  {
   "cell_type": "code",
   "execution_count": 1,
   "id": "dd8c25fa",
   "metadata": {},
   "outputs": [],
   "source": [
    "import seaborn as sns # for correlation heatmap\n",
    "import numpy as np\n",
    "import pandas as pd\n",
    "import tensorflow as tf\n",
    "import xgboost as xgb\n",
    "import pushranker\n",
    "import datetime\n",
    "import snrf\n",
    "import importlib\n",
    "import random\n",
    "import pickle\n",
    "import collections\n",
    "import concurrent.futures\n",
    "from matplotlib import pyplot as plt\n",
    "from copy import deepcopy\n",
    "from pathlib import Path\n",
    "from xgboost import XGBClassifier, XGBRegressor\n",
    "from sklearn.feature_extraction import DictVectorizer\n",
    "from sklearn.model_selection import KFold, train_test_split, GridSearchCV\n",
    "from sklearn.metrics import confusion_matrix, plot_confusion_matrix, roc_curve, auc, precision_recall_curve, average_precision_score\n",
    "from typing import List, Dict, Tuple, DefaultDict\n",
    "from snrf.feature_column import PairEmbeddingsFusionFeature"
   ]
  },
  {
   "cell_type": "code",
   "execution_count": 9,
   "id": "cc3b0bb3",
   "metadata": {},
   "outputs": [
    {
     "data": {
      "text/plain": [
       "<module 'snrf.gbdt' from '/home/ec2-user/john.wu/push/sn-ranker-framework/container/snrf/gbdt.py'>"
      ]
     },
     "execution_count": 9,
     "metadata": {},
     "output_type": "execute_result"
    }
   ],
   "source": [
    "importlib.reload(pushranker.targeted_push_gbdt)\n",
    "importlib.reload(pushranker.scheduled_push_gbdt)\n",
    "importlib.reload(pushranker.scheduled_push)\n",
    "importlib.reload(snrf.sparse_util)\n",
    "importlib.reload(snrf.gbdt)"
   ]
  },
  {
   "cell_type": "code",
   "execution_count": 3,
   "id": "9168b4de",
   "metadata": {},
   "outputs": [
    {
     "name": "stdout",
     "output_type": "stream",
     "text": [
      "data/train/edition=en_US/push_type=scheduled/0622\n",
      "data/test/edition=en_US/push_type=scheduled/0623\n",
      "<module 'pushranker.scheduled_push_gbdt' from '/home/ec2-user/john.wu/push/push-ranker/container/pushranker/scheduled_push_gbdt.py'>\n"
     ]
    }
   ],
   "source": [
    "push_type = 'scheduled' # local, targeted, scheduled\n",
    "model_type = 'GBDT' # GBDT, DNN\n",
    "\n",
    "train_days = 2\n",
    "train_day = '0622'\n",
    "test_day = '0623'\n",
    "\n",
    "LOCAL_DATA_ROOT = Path('./data/')\n",
    "TRAIN_DATA_ROOT = str(LOCAL_DATA_ROOT / 'train' / 'edition=en_US' / f'push_type={push_type}' / train_day ) # / 'dt=2021-04-30-00')\n",
    "TEST_DATA_ROOT = str(LOCAL_DATA_ROOT / 'test' / 'edition=en_US' / f'push_type={push_type}' / test_day) # / 'dt=2021-05-01-00')\n",
    "\n",
    "training_format = snrf.package.get_obj_from_name(pushranker, 'survival_feature_spec.binarized_format_devicetoken')\n",
    "\n",
    "if model_type == 'DNN':\n",
    "    # input_module = pushranker.local_push\n",
    "    input_module = importlib.import_module(f'pushranker.{push_type}_push')\n",
    "    hps = getattr(pushranker.hyperparam, push_type)\n",
    "    push_ranker_model = pushranker.model.make_model_assembly(hps, input_module.input_spec)\n",
    "    push_ranker_model.hazard_model.load_weights(f'./model/{push_type}-push/push-{model_type}/{train_day}/pushranker')\n",
    "    pushranker.model.initialize_for_training(push_ranker_model, hps)\n",
    "    \n",
    "elif model_type == 'GBDT':\n",
    "    architecture = snrf.architectures.ranker_architectures.LightGbmRankerArchitecture\n",
    "    \n",
    "    input_module = importlib.import_module(f'pushranker.{push_type}_push_gbdt')\n",
    "    hps = getattr(pushranker.gbdt_hyperparam, f'{push_type}_us')\n",
    "    features = [\n",
    "        'u_cate',\n",
    "        'u_catev2',\n",
    "        'u_hhs',\n",
    "        'u_tt_emb',\n",
    "        'uf_dense_gbdt',\n",
    "        'a_catev2',\n",
    "        # 'a_site_id',\n",
    "        'a_stats_gbdt',\n",
    "        'pub_stats_gbdt',\n",
    "        'af_dense_gbdt',\n",
    "        'a_tt_emb',\n",
    "        'cgScores',\n",
    "        'a_u_dense_gbdt',\n",
    "        PairEmbeddingsFusionFeature('tt_emb_em', ['u_tt_emb', 'a_tt_emb'], 'elementwise_multiply'),\n",
    "        PairEmbeddingsFusionFeature('tt_emb_dot', ['u_tt_emb', 'a_tt_emb'], 'dot_product'),\n",
    "    ]\n",
    "    sparsifier, total_dim = snrf.sparse_util.make_csr_sparsifier(input_module.input_spec, hps, features)\n",
    "    build_state = snrf.model_components_common.ModelBuildState.build(spec=input_module.input_spec, hyperparams=hps)\n",
    "    assembly = architecture.make_model_assembly(build_state, hps, features)\n",
    "    \n",
    "\n",
    "print(TRAIN_DATA_ROOT)\n",
    "print(TEST_DATA_ROOT)\n",
    "print(input_module)"
   ]
  },
  {
   "cell_type": "code",
   "execution_count": 20,
   "id": "475a16ee",
   "metadata": {
    "scrolled": false
   },
   "outputs": [
    {
     "data": {
      "text/plain": [
       "lightgbm.basic.Dataset"
      ]
     },
     "execution_count": 20,
     "metadata": {},
     "output_type": "execute_result"
    }
   ],
   "source": [
    "def prepare(root, shuffle=None):\n",
    "    ds = snrf.tfrecord.read_dataset_from_files(root)\n",
    "#     ds = ds.shuffle(10000)\n",
    "\n",
    "    if model_type == 'DNN':\n",
    "        ds = snrf.tfrecord.prepare_dataset_for_use(\n",
    "            ds,\n",
    "            input_module.input_spec,\n",
    "            shuffle=shuffle,\n",
    "            training_format=training_format)\n",
    "        \n",
    "    elif model_type == 'GBDT':\n",
    "        ds = ds.take(100_000)\n",
    "        ds = snrf.gbdt.LightGbmFrameworkWrapper.prepare_dataset_for_use(\n",
    "            ds,\n",
    "            spec=input_module.input_spec,\n",
    "            assembly=assembly,\n",
    "            training_format=input_module.default_format_fun)\n",
    "        \n",
    "    return ds\n",
    "\n",
    "# train_ds = prepare(TRAIN_DATA_ROOT, 10000)\n",
    "test_ds = prepare(TEST_DATA_ROOT)\n",
    "type(test_ds)"
   ]
  },
  {
   "cell_type": "markdown",
   "id": "0cc3056b",
   "metadata": {},
   "source": [
    "## Check data"
   ]
  },
  {
   "cell_type": "code",
   "execution_count": 22,
   "id": "49def1a0",
   "metadata": {},
   "outputs": [
    {
     "name": "stderr",
     "output_type": "stream",
     "text": [
      "/home/ec2-user/anaconda3/envs/pranker/lib/python3.7/site-packages/lightgbm/engine.py:148: UserWarning: Found `num_boost_round` in params. Will use it instead of argument\n",
      "  _log_warning(\"Found `{}` in params. Will use it instead of argument\".format(alias))\n",
      "/home/ec2-user/anaconda3/envs/pranker/lib/python3.7/site-packages/lightgbm/basic.py:1702: UserWarning: Using categorical_feature in Dataset.\n",
      "  _log_warning('Using categorical_feature in Dataset.')\n"
     ]
    },
    {
     "name": "stdout",
     "output_type": "stream",
     "text": [
      "[LightGBM] [Warning] Unknown parameter: lgbm_categoricals\n",
      "[LightGBM] [Warning] Unknown parameter: architecture_name\n",
      "[LightGBM] [Warning] Unknown parameter: lgbm_categoricals\n",
      "[LightGBM] [Warning] Unknown parameter: architecture_name\n",
      "[LightGBM] [Info] Number of positive: 6076, number of negative: 93924\n",
      "[LightGBM] [Warning] Auto-choosing col-wise multi-threading, the overhead of testing was 0.105686 seconds.\n",
      "You can set `force_col_wise=true` to remove the overhead.\n",
      "[LightGBM] [Info] Total Bins 117058\n",
      "[LightGBM] [Info] Number of data points in the train set: 100000, number of used features: 603\n",
      "[LightGBM] [Info] [binary:BoostFromScore]: pavg=0.060760 -> initscore=-2.738139\n",
      "[LightGBM] [Info] Start training from score -2.738139\n"
     ]
    }
   ],
   "source": [
    "snrf.gbdt.LightGbmFrameworkWrapper.fit(assembly, ds=test_ds)"
   ]
  },
  {
   "cell_type": "code",
   "execution_count": 24,
   "id": "ad668900",
   "metadata": {},
   "outputs": [
    {
     "ename": "NotImplementedError",
     "evalue": "",
     "output_type": "error",
     "traceback": [
      "\u001b[0;31m---------------------------------------------------------------------------\u001b[0m",
      "\u001b[0;31mNotImplementedError\u001b[0m                       Traceback (most recent call last)",
      "\u001b[0;32m<ipython-input-24-41ab7281c6c0>\u001b[0m in \u001b[0;36m<module>\u001b[0;34m\u001b[0m\n\u001b[1;32m      1\u001b[0m \u001b[0mimportlib\u001b[0m\u001b[0;34m.\u001b[0m\u001b[0mreload\u001b[0m\u001b[0;34m(\u001b[0m\u001b[0msnrf\u001b[0m\u001b[0;34m.\u001b[0m\u001b[0mgbdt\u001b[0m\u001b[0;34m)\u001b[0m\u001b[0;34m\u001b[0m\u001b[0;34m\u001b[0m\u001b[0m\n\u001b[0;32m----> 2\u001b[0;31m \u001b[0meval_result\u001b[0m \u001b[0;34m=\u001b[0m \u001b[0msnrf\u001b[0m\u001b[0;34m.\u001b[0m\u001b[0mgbdt\u001b[0m\u001b[0;34m.\u001b[0m\u001b[0mLightGbmFrameworkWrapper\u001b[0m\u001b[0;34m.\u001b[0m\u001b[0mevaluate\u001b[0m\u001b[0;34m(\u001b[0m\u001b[0massembly\u001b[0m\u001b[0;34m=\u001b[0m\u001b[0massembly\u001b[0m\u001b[0;34m,\u001b[0m \u001b[0mds\u001b[0m\u001b[0;34m=\u001b[0m\u001b[0mtest_ds\u001b[0m\u001b[0;34m)\u001b[0m\u001b[0;34m\u001b[0m\u001b[0;34m\u001b[0m\u001b[0m\n\u001b[0m",
      "\u001b[0;32m~/john.wu/push/sn-ranker-framework/container/snrf/gbdt.py\u001b[0m in \u001b[0;36mevaluate\u001b[0;34m(assembly, ds, package_, callbacks, **kwargs)\u001b[0m\n\u001b[1;32m    125\u001b[0m         \u001b[0;31m# results = assembly.booster.eval_valid()\u001b[0m\u001b[0;34m\u001b[0m\u001b[0;34m\u001b[0m\u001b[0;34m\u001b[0m\u001b[0m\n\u001b[1;32m    126\u001b[0m         \u001b[0;31m# return {r[1]: r[2] for r in results}\u001b[0m\u001b[0;34m\u001b[0m\u001b[0;34m\u001b[0m\u001b[0;34m\u001b[0m\u001b[0m\n\u001b[0;32m--> 127\u001b[0;31m         \u001b[0;32mraise\u001b[0m \u001b[0mNotImplementedError\u001b[0m\u001b[0;34m(\u001b[0m\u001b[0;34m)\u001b[0m\u001b[0;34m\u001b[0m\u001b[0;34m\u001b[0m\u001b[0m\n\u001b[0m",
      "\u001b[0;31mNotImplementedError\u001b[0m: "
     ]
    }
   ],
   "source": [
    "importlib.reload(snrf.gbdt)\n",
    "eval_result = snrf.gbdt.LightGbmFrameworkWrapper.evaluate(assembly=assembly, ds=test_ds)"
   ]
  },
  {
   "cell_type": "code",
   "execution_count": 19,
   "id": "e31d1cce",
   "metadata": {},
   "outputs": [],
   "source": [
    "g = tds.get_group()\n",
    "g"
   ]
  },
  {
   "cell_type": "code",
   "execution_count": 8,
   "id": "dcb909f4",
   "metadata": {},
   "outputs": [
    {
     "ename": "TypeError",
     "evalue": "object of type 'Dataset' has no len()",
     "output_type": "error",
     "traceback": [
      "\u001b[0;31m---------------------------------------------------------------------------\u001b[0m",
      "\u001b[0;31mTypeError\u001b[0m                                 Traceback (most recent call last)",
      "\u001b[0;32m<ipython-input-8-7a143d3c45a0>\u001b[0m in \u001b[0;36m<module>\u001b[0;34m\u001b[0m\n\u001b[1;32m      1\u001b[0m \u001b[0;31m## GBDT dataset\u001b[0m\u001b[0;34m\u001b[0m\u001b[0;34m\u001b[0m\u001b[0;34m\u001b[0m\u001b[0m\n\u001b[0;32m----> 2\u001b[0;31m \u001b[0mlen\u001b[0m\u001b[0;34m(\u001b[0m\u001b[0mtest_ds\u001b[0m\u001b[0;34m)\u001b[0m\u001b[0;34m\u001b[0m\u001b[0;34m\u001b[0m\u001b[0m\n\u001b[0m",
      "\u001b[0;31mTypeError\u001b[0m: object of type 'Dataset' has no len()"
     ]
    }
   ],
   "source": [
    "## GBDT dataset\n",
    "len(test_ds)"
   ]
  },
  {
   "cell_type": "code",
   "execution_count": 5,
   "id": "2567714a",
   "metadata": {
    "scrolled": true
   },
   "outputs": [
    {
     "name": "stdout",
     "output_type": "stream",
     "text": [
      "15958186\n",
      "15958186\n",
      "15958186\n"
     ]
    }
   ],
   "source": [
    "## DNN dataset\n",
    "devtok1 = list()\n",
    "label = list()\n",
    "devtok2 = list()\n",
    "\n",
    "for feature_batch, label_batch, weight_batch, devtok_batch in test_ds.as_numpy_iterator():\n",
    "#     print(len(feature_batch['device_token']))\n",
    "#     print(len(label_batch))\n",
    "#     print(len(devtok_batch))\n",
    "#     print()\n",
    "    for dtk1, l, dtk2 in zip(feature_batch['device_token'], label_batch, devtok_batch):\n",
    "#         print(f'{dtk1}, {l}, {dtk2}')\n",
    "        devtok1.append(dtk1)\n",
    "        label.append(l)\n",
    "        devtok2.append(dtk2)\n",
    "# devtok = np.array(devtok)\n",
    "# label = np.array(label)\n",
    "print(len(devtok1))\n",
    "print(len(label))\n",
    "print(len(devtok2))"
   ]
  },
  {
   "cell_type": "markdown",
   "id": "626739a7",
   "metadata": {},
   "source": [
    "## push-GBDT ranker"
   ]
  },
  {
   "cell_type": "code",
   "execution_count": 11,
   "id": "2cd1857a",
   "metadata": {},
   "outputs": [],
   "source": [
    "## push-ranker\n",
    "model_name = 'pushranker'\n",
    "\n",
    "if model_type == 'DNN':\n",
    "    \n",
    "\n",
    "    \n",
    "elif model_type == 'GBDT':\n",
    "    \n",
    "\n"
   ]
  },
  {
   "cell_type": "code",
   "execution_count": null,
   "id": "03661260",
   "metadata": {},
   "outputs": [],
   "source": []
  },
  {
   "cell_type": "code",
   "execution_count": null,
   "id": "16a34a6e",
   "metadata": {},
   "outputs": [],
   "source": []
  },
  {
   "cell_type": "code",
   "execution_count": null,
   "id": "a3355061",
   "metadata": {},
   "outputs": [],
   "source": []
  },
  {
   "cell_type": "code",
   "execution_count": null,
   "id": "a0dab28d",
   "metadata": {
    "scrolled": true
   },
   "outputs": [],
   "source": [
    "%%time\n",
    "dnn_pred_1 = dnn_model_1.training_adapter.predict(test_ds)"
   ]
  },
  {
   "cell_type": "code",
   "execution_count": null,
   "id": "1bdcb482",
   "metadata": {},
   "outputs": [],
   "source": [
    "dnn_pred_ctr_1 = np.array([s[0] for s in dnn_pred_1])"
   ]
  },
  {
   "cell_type": "code",
   "execution_count": null,
   "id": "a4839ef3",
   "metadata": {},
   "outputs": [],
   "source": [
    "## DNN push-ranker\n",
    "# dnn_model_name = f'{train_days}-day'\n",
    "dnn_model_name = f'6-day--{train_day}'\n",
    "\n",
    "hps = getattr(pushranker.hyperparam, push_type)\n",
    "dnn_model_2 = pushranker.model.make_model_assembly(hps, input_module.less_ids_input_spec)\n",
    "dnn_model_2.hazard_model.load_weights(f'./model/{push_type}-push/DNN/{dnn_model_name}/pushranker')\n",
    "pushranker.model.initialize_for_training(dnn_model_2, hps)"
   ]
  },
  {
   "cell_type": "code",
   "execution_count": null,
   "id": "5ab099c1",
   "metadata": {},
   "outputs": [],
   "source": [
    "%%time\n",
    "dnn_pred_2 = dnn_model_2.training_adapter.predict(test_ds)"
   ]
  },
  {
   "cell_type": "code",
   "execution_count": null,
   "id": "6ac0e9f9",
   "metadata": {},
   "outputs": [],
   "source": [
    "dnn_pred_ctr_2 = np.array([s[0] for s in dnn_pred_2])"
   ]
  },
  {
   "cell_type": "code",
   "execution_count": null,
   "id": "84e4c07c",
   "metadata": {},
   "outputs": [],
   "source": [
    "devtok = list()\n",
    "label = list()\n",
    "fy_gbdt_ctr = list()\n",
    "\n",
    "for feature_batch, label_batch, devtok_batch in test_ds.as_numpy_iterator():\n",
    "    for f, l, dtk in zip(feature_batch['predicted_ctr'], label_batch, devtok_batch):\n",
    "        fy_gbdt_ctr.append(f)\n",
    "        label.append(l)\n",
    "        devtok.append(dtk[0])\n",
    "devtok = np.array(devtok)\n",
    "label = np.array(label)\n",
    "fy_gbdt_ctr = np.array(fy_gbdt_ctr)"
   ]
  },
  {
   "cell_type": "markdown",
   "id": "c5c24a73",
   "metadata": {},
   "source": [
    "## Predicted CTR Distribution"
   ]
  },
  {
   "cell_type": "code",
   "execution_count": null,
   "id": "f785a2e8",
   "metadata": {},
   "outputs": [],
   "source": [
    "plt.figure(figsize=(10, 5), dpi=300)\n",
    "# _ = plt.hist(fy_gbdt_ctr, bins=1000, color='r', label='FY GBDT')\n",
    "# _ = plt.hist(gbdt_pred_ctr, bins=1000, color='g', label='GBDT push ranker')\n",
    "_ = plt.hist(dnn_pred_ctr_1, bins=1000, color='b', label='DNN push ranker (1 day)')\n",
    "_ = plt.hist(dnn_pred_ctr_2, bins=1000, color='y', label='DNN push ranker (6 days)')\n",
    "\n",
    "\n",
    "plt.xlabel('CTR')\n",
    "plt.ylabel('Count')\n",
    "plt.title(\"Predicted CTR Distribution\")\n",
    "plt.legend(loc=\"upper right\")\n",
    "plt.show()"
   ]
  },
  {
   "cell_type": "markdown",
   "id": "fcc6107c",
   "metadata": {},
   "source": [
    "## ROC AUC"
   ]
  },
  {
   "cell_type": "code",
   "execution_count": null,
   "id": "1a0037b3",
   "metadata": {},
   "outputs": [],
   "source": [
    "fpr_gbdt, tpr_gbdt, thresholds_gbdt = roc_curve(test_y, gbdt_pred_ctr)\n",
    "fpr_fy_gbdt, tpr_fy_gbdt, thresholds_fy_gbdt = roc_curve(label, fy_gbdt_ctr)\n",
    "fpr_dnn1, tpr_dnn1, thresholds_dnn1 = roc_curve(label, dnn_pred_ctr_1)\n",
    "fpr_dnn2, tpr_dnn2, thresholds_dnn2 = roc_curve(label, dnn_pred_ctr_2)\n",
    "\n",
    "gbdt_auc = auc(fpr_gbdt, tpr_gbdt)\n",
    "fy_gbdt_auc = auc(fpr_fy_gbdt, tpr_fy_gbdt)\n",
    "dnn1_auc = auc(fpr_dnn1, tpr_dnn1)\n",
    "dnn2_auc = auc(fpr_dnn2, tpr_dnn2)\n",
    "\n",
    "print('GBDT push ranker AUC: ', gbdt_auc)\n",
    "print('FY GBDT AUC: ', fy_gbdt_auc)\n",
    "print('DNN1 push ranker AUC: ', dnn1_auc)\n",
    "print('DNN2 push ranker AUC: ', dnn2_auc)\n"
   ]
  },
  {
   "cell_type": "code",
   "execution_count": null,
   "id": "57b3bea6",
   "metadata": {},
   "outputs": [],
   "source": [
    "# Plot ROC\n",
    "plt.figure(figsize=(8, 8), dpi=300)\n",
    "lw = 2\n",
    "plt.plot(fpr_fy_gbdt, tpr_fy_gbdt, color='r',\n",
    "         lw=lw, label='FY GBDT (area = %0.4f)' % fy_gbdt_auc)\n",
    "plt.plot(fpr_gbdt, tpr_gbdt, color='g',\n",
    "         lw=lw, label='GBDT push ranker (area = %0.4f)' % gbdt_auc)\n",
    "plt.plot(fpr_dnn1, tpr_dnn1, color='b',\n",
    "         lw=lw, label='DNN 1 push ranker (area = %0.4f)' % dnn1_auc)\n",
    "plt.plot(fpr_dnn2, tpr_dnn2, color='y',\n",
    "         lw=lw, label='DNN 2 push ranker (area = %0.4f)' % dnn2_auc)\n",
    "plt.plot([0, 1], [0, 1], color='k', lw=lw, linestyle='--')\n",
    "plt.xlim([0.0, 1.0])\n",
    "plt.ylim([0.0, 1.05])\n",
    "plt.xlabel('False Positive Rate')\n",
    "plt.ylabel('True Positive Rate')\n",
    "plt.title('Receiver Operating Characteristic curve')\n",
    "plt.legend(loc=\"lower right\")\n",
    "plt.show()"
   ]
  },
  {
   "cell_type": "markdown",
   "id": "f88fa5e5",
   "metadata": {},
   "source": [
    "## Average Precision"
   ]
  },
  {
   "cell_type": "code",
   "execution_count": null,
   "id": "178e76af",
   "metadata": {},
   "outputs": [],
   "source": [
    "pre_gbdt, rec_gbdt, thresholds_gbdt = precision_recall_curve(test_y, gbdt_pred_ctr)\n",
    "pre_fy_gbdt, rec_fy_gbdt, thresholds_fy_gbdt = precision_recall_curve(label, fy_gbdt_ctr)\n",
    "pre_dnn1, rec_dnn1, thresholds_dnn1 = precision_recall_curve(label, dnn_pred_ctr_1)\n",
    "pre_dnn2, rec_dnn2, thresholds_dnn2 = precision_recall_curve(label, dnn_pred_ctr_2)\n",
    "\n",
    "gbdt_ap = average_precision_score(test_y, gbdt_pred_ctr)\n",
    "fy_gbdt_ap = average_precision_score(label, fy_gbdt_ctr)\n",
    "dnn1_ap = average_precision_score(label, dnn_pred_ctr_1)\n",
    "dnn2_ap = average_precision_score(label, dnn_pred_ctr_2)\n",
    "\n",
    "print('GBDT AP: {0:0.4f}'.format(gbdt_ap))\n",
    "print('FY GBDT AP: {0:0.4f}'.format(fy_gbdt_ap))\n",
    "print('DNN 1 AP: {0:0.4f}'.format(dnn1_ap))\n",
    "print('DNN 2 AP: {0:0.4f}'.format(dnn2_ap))"
   ]
  },
  {
   "cell_type": "code",
   "execution_count": null,
   "id": "60d01f97",
   "metadata": {},
   "outputs": [],
   "source": [
    "# Plot PR\n",
    "plt.figure(figsize=(8, 8), dpi=300)\n",
    "lw = 2\n",
    "plt.plot(rec_fy_gbdt, pre_fy_gbdt, color='r',\n",
    "         lw=lw, label='FY GBDT (area = %0.4f)' % fy_gbdt_ap)\n",
    "plt.plot(rec_gbdt, pre_gbdt, color='g',\n",
    "         lw=lw, label='GBDT push ranker (area = %0.4f)' % gbdt_ap)\n",
    "plt.plot(rec_dnn1, pre_dnn1, color='b',\n",
    "         lw=lw, label='DNN 1 push ranker (area = %0.4f)' % dnn1_ap)\n",
    "plt.plot(rec_dnn2, pre_dnn2, color='y',\n",
    "         lw=lw, label='DNN 2 push ranker (area = %0.4f)' % dnn2_ap)\n",
    "plt.xlim([0.0, 1.0])\n",
    "plt.ylim([0.0, 1.05])\n",
    "plt.xlabel('Recall')\n",
    "plt.ylabel('Precision')\n",
    "plt.title('Precision-Recall curve')\n",
    "plt.legend(loc=\"upper right\")\n",
    "plt.show()"
   ]
  },
  {
   "cell_type": "markdown",
   "id": "8772940b",
   "metadata": {},
   "source": [
    "## Overall top-k Precision"
   ]
  },
  {
   "cell_type": "code",
   "execution_count": null,
   "id": "9e918a62",
   "metadata": {},
   "outputs": [],
   "source": [
    "gbdt_score_label = list()\n",
    "fygbdt_score_label = list()\n",
    "dnn1_score_label = list()\n",
    "dnn2_score_label = list()\n",
    "length = len(label)\n",
    "\n",
    "for i in range(length):\n",
    "    gbdt_score_label.append((gbdt_pred_ctr[i], label[i]))\n",
    "    fygbdt_score_label.append((fy_gbdt_ctr[i], label[i]))\n",
    "    dnn1_score_label.append((dnn_pred_ctr_1[i], label[i]))\n",
    "    dnn2_score_label.append((dnn_pred_ctr_2[i], label[i]))    \n",
    "\n",
    "gbdt_score_label.sort(reverse=True)\n",
    "fygbdt_score_label.sort(reverse=True)\n",
    "dnn1_score_label.sort(reverse=True)\n",
    "dnn2_score_label.sort(reverse=True)"
   ]
  },
  {
   "cell_type": "code",
   "execution_count": null,
   "id": "7528bb09",
   "metadata": {},
   "outputs": [],
   "source": [
    "topk = [1, 2, 5, 10, 20, 50, 100, 1000, 10000, 100000]\n",
    "\n",
    "for i in topk:\n",
    "    print(f'top-{i} precision:')\n",
    "    print('fy gbdt: {0:0.4f}'.format(sum((l for _, l in fygbdt_score_label[:i]))/i))\n",
    "    print('gbdt: {0:0.4f}'.format(sum((l for _, l in gbdt_score_label[:i]))/i))    \n",
    "    print('dnn1: {0:0.4f}'.format(sum((l for _, l in dnn1_score_label[:i]))/i))\n",
    "    print('dnn2: {0:0.4f}'.format(sum((l for _, l in dnn2_score_label[:i]))/i))    "
   ]
  },
  {
   "cell_type": "code",
   "execution_count": null,
   "id": "88a825c9",
   "metadata": {},
   "outputs": [],
   "source": [
    "topk = [10000]\n",
    "\n",
    "for i in topk:\n",
    "    print(f'top-{i} precision:')\n",
    "    print('fy gbdt: {0:0.4f}'.format(sum((l for _, l in fygbdt_score_label[:i]))/i))\n",
    "    print('gbdt: {0:0.4f}'.format(sum((l for _, l in gbdt_score_label[:i]))/i))\n",
    "    print('dnn1: {0:0.4f}'.format(sum((l for _, l in dnn1_score_label[:i]))/i))\n",
    "    print('dnn2: {0:0.4f}'.format(sum((l for _, l in dnn2_score_label[:i]))/i))    "
   ]
  },
  {
   "cell_type": "markdown",
   "id": "51837ed1",
   "metadata": {},
   "source": [
    "## gAUC"
   ]
  },
  {
   "cell_type": "code",
   "execution_count": null,
   "id": "da6cddef",
   "metadata": {},
   "outputs": [],
   "source": [
    "# len_samples = len(devtok)\n",
    "# user_fy_gbdt = collections.defaultdict(list)\n",
    "# user_push_gbdt = collections.defaultdict(list)\n",
    "# user_dnn1 = collections.defaultdict(list)\n",
    "# user_dnn2 = collections.defaultdict(list)\n",
    "# for i in range(len_samples):\n",
    "#     user_fy_gbdt[devtok[i]].append((fy_gbdt_ctr[i], label[i]))\n",
    "#     user_push_gbdt[devtok[i]].append((gbdt_pred_ctr[i], label[i]))\n",
    "#     user_dnn1[devtok[i]].append((dnn_pred_ctr_1[i], label[i]))\n",
    "#     user_dnn2[devtok[i]].append((dnn_pred_ctr_2[i], label[i]))\n",
    "# assert len(user_fy_gbdt) == len(user_push_gbdt) == len(user_dnn1) == len(user_dnn2)"
   ]
  },
  {
   "cell_type": "code",
   "execution_count": null,
   "id": "3ede3b7e",
   "metadata": {},
   "outputs": [],
   "source": [
    "%%time\n",
    "len_samples = len(devtok)\n",
    "user_fy_gbdt = collections.defaultdict(lambda: collections.defaultdict(list))\n",
    "# user_push_gbdt = collections.defaultdict(lambda: collections.defaultdict(list))\n",
    "user_dnn1 = collections.defaultdict(lambda: collections.defaultdict(list))\n",
    "user_dnn2 = collections.defaultdict(lambda: collections.defaultdict(list))\n",
    "for i in range(len_samples):\n",
    "    user_fy_gbdt[devtok[i]]['score'].append(fy_gbdt_ctr[i])\n",
    "    user_fy_gbdt[devtok[i]]['label'].append(label[i])\n",
    "#     user_push_gbdt[devtok[i]]['score'].append(gbdt_pred_ctr[i])\n",
    "#     user_push_gbdt[devtok[i]]['label'].append(label[i])\n",
    "    user_dnn1[devtok[i]]['score'].append(dnn_pred_ctr_1[i])\n",
    "    user_dnn1[devtok[i]]['label'].append(label[i])\n",
    "    user_dnn2[devtok[i]]['score'].append(dnn_pred_ctr_2[i])\n",
    "    user_dnn2[devtok[i]]['label'].append(label[i])    \n",
    "# assert len(user_fy_gbdt) == len(user_push_gbdt) == len(user_dnn1) == len(user_dnn2)"
   ]
  },
  {
   "cell_type": "code",
   "execution_count": null,
   "id": "0e469ebb",
   "metadata": {},
   "outputs": [],
   "source": [
    "# number of users\n",
    "len(user_fy_gbdt)"
   ]
  },
  {
   "cell_type": "code",
   "execution_count": null,
   "id": "cc5cc816",
   "metadata": {},
   "outputs": [],
   "source": [
    "%%time\n",
    "\n",
    "## get to-be-evaluated users\n",
    "# dicts = [user_fy_gbdt, user_push_gbdt, user_dnn1, user_dnn2]\n",
    "dicts = [user_fy_gbdt, user_dnn1, user_dnn2]\n",
    "\n",
    "def getTBEUsers(d) -> Dict:\n",
    "    rd = deepcopy(d)\n",
    "    for user, candidates in d.items():\n",
    "        l = len(candidates['label'])\n",
    "        s = sum(candidates['label'])\n",
    "        if s == 0 or s == l:\n",
    "            rd.pop(user, None)\n",
    "    return rd\n",
    "\n",
    "with concurrent.futures.ThreadPoolExecutor() as executor:\n",
    "    futures = [executor.submit(getTBEUsers, param) for param in dicts]\n",
    "user_fy_gbdt = futures[0].result()\n",
    "# user_push_gbdt = futures[1].result()\n",
    "user_dnn1 = futures[1].result()\n",
    "user_dnn2 = futures[2].result()"
   ]
  },
  {
   "cell_type": "code",
   "execution_count": null,
   "id": "5f6e586d",
   "metadata": {},
   "outputs": [],
   "source": [
    "# number of users to be evaluated\n",
    "print(len(user_fy_gbdt))\n",
    "# print(len(user_push_gbdt))\n",
    "print(len(user_dnn1))\n",
    "print(len(user_dnn2))"
   ]
  },
  {
   "cell_type": "code",
   "execution_count": null,
   "id": "2e0a6185",
   "metadata": {},
   "outputs": [],
   "source": [
    "user_fy_gbdt == user_dnn1"
   ]
  },
  {
   "cell_type": "code",
   "execution_count": null,
   "id": "59dd0301",
   "metadata": {},
   "outputs": [],
   "source": [
    "def gAUC(userNews: DefaultDict) -> Tuple[List]:\n",
    "    gauc = []\n",
    "    zero = []\n",
    "    half = []\n",
    "    one = []\n",
    "    for d in userNews.values():\n",
    "        score = d['score']\n",
    "        label = d['label']\n",
    "        s = sum(label)\n",
    "        if s > 0 and s != len(label):\n",
    "            fpr, tpr, _ = roc_curve(label, score)\n",
    "            a = auc(fpr, tpr)\n",
    "            if a == 0:\n",
    "                zero.append(len(label))\n",
    "            elif a == 0.5:\n",
    "                half.append(len(label))\n",
    "            elif a == 1:\n",
    "                one.append(len(label))\n",
    "            gauc.append(a)\n",
    "    return gauc, zero, half, one\n",
    "#     return sum(gauc)/len(gauc)"
   ]
  },
  {
   "cell_type": "code",
   "execution_count": null,
   "id": "b2944d27",
   "metadata": {},
   "outputs": [],
   "source": [
    "%%time\n",
    "# models = [user_fy_gbdt, user_push_gbdt, user_dnn1, user_dnn2]\n",
    "models = [user_fy_gbdt, user_dnn1, user_dnn2]\n",
    "with concurrent.futures.ThreadPoolExecutor() as executor:\n",
    "    futures = [executor.submit(gAUC, param) for param in models]"
   ]
  },
  {
   "cell_type": "code",
   "execution_count": null,
   "id": "60c39720",
   "metadata": {},
   "outputs": [],
   "source": [
    "gauc_fy_gbdt, fygbdt_z, fygbdt_h, fygbdt_o = futures[0].result()\n",
    "# gauc_push_gbdt, pushgbdt_z, pushgbdt_h, pushgbdt_o = futures[1].result()\n",
    "gauc_dnn1, dnn1_z, dnn1_h, dnn1_o = futures[1].result()\n",
    "gauc_dnn2, dnn2_z, dnn2_h, dnn2_o = futures[2].result()"
   ]
  },
  {
   "cell_type": "code",
   "execution_count": null,
   "id": "99943154",
   "metadata": {},
   "outputs": [],
   "source": [
    "print(len(fygbdt_z), len(fygbdt_h), len(fygbdt_o))\n",
    "# print(len(pushgbdt_z), len(pushgbdt_h), len(pushgbdt_o))\n",
    "print(len(dnn1_z), len(dnn1_h), len(dnn1_o))\n",
    "print(len(dnn2_z), len(dnn2_h), len(dnn2_o))"
   ]
  },
  {
   "cell_type": "code",
   "execution_count": null,
   "id": "d0b5d50b",
   "metadata": {},
   "outputs": [],
   "source": [
    "plt.figure(figsize=(10, 5), dpi=200)\n",
    "_ = plt.hist(fygbdt_z, bins=50, alpha=0.5, color='r', label='gAUC == 0')\n",
    "_ = plt.hist(fygbdt_o, bins=50, alpha=0.5, color='b', label='gAUC == 1')\n",
    "_ = plt.hist(fygbdt_h, bins=50, alpha=0.5, color='g', label='gAUC == 0.5')\n",
    "\n",
    "plt.xlabel('#candidates')\n",
    "plt.ylabel('Count')\n",
    "plt.title(\"#candidates Distribution\")\n",
    "plt.legend(loc=\"upper right\")\n",
    "plt.show()"
   ]
  },
  {
   "cell_type": "code",
   "execution_count": null,
   "id": "836db32c",
   "metadata": {},
   "outputs": [],
   "source": [
    "plt.figure(figsize=(10, 5), dpi=200)\n",
    "_ = plt.hist(dnn2_z, bins=50, alpha=0.5, color='r', label='gAUC == 0')\n",
    "\n",
    "_ = plt.hist(dnn2_o, bins=50, alpha=0.5, color='b', label='gAUC == 1')\n",
    "_ = plt.hist(dnn2_h, bins=50, alpha=0.5, color='g', label='gAUC == 0.5')\n",
    "\n",
    "plt.xlabel('#candidates')\n",
    "plt.ylabel('Count')\n",
    "plt.title(\"#candidates Distribution\")\n",
    "plt.legend(loc=\"upper right\")\n",
    "plt.show()"
   ]
  },
  {
   "cell_type": "code",
   "execution_count": null,
   "id": "33469844",
   "metadata": {},
   "outputs": [],
   "source": [
    "# print(len(gauc_fy_gbdt), len(gauc_push_gbdt), len(gauc_dnn1))#, len(gauc_dnn2))\n",
    "print(len(gauc_fy_gbdt), len(gauc_dnn1), len(gauc_dnn2))"
   ]
  },
  {
   "cell_type": "code",
   "execution_count": null,
   "id": "3ca05fd9",
   "metadata": {},
   "outputs": [],
   "source": [
    "# plt.figure(figsize=(10, 5), dpi=300)\n",
    "# _ = plt.hist(gauc_fy_gbdt, bins=100, color='r', alpha=0.5, label='fy-gbdt')\n",
    "# _ = plt.hist(gauc_push_gbdt, bins=100, color='g', alpha=0.5, label='push-gbdt')\n",
    "\n",
    "# plt.xlabel('gAUC')\n",
    "# plt.ylabel('Count')\n",
    "# plt.title(\"gAUC Distribution\")\n",
    "# plt.legend(loc=\"best\")\n",
    "# plt.show()"
   ]
  },
  {
   "cell_type": "code",
   "execution_count": null,
   "id": "af6d0559",
   "metadata": {},
   "outputs": [],
   "source": [
    "plt.figure(figsize=(10, 5), dpi=300)\n",
    "_ = plt.hist(gauc_fy_gbdt, bins=100, color='r', alpha=0.5, label='fy-gbdt')\n",
    "_ = plt.hist(gauc_dnn1, bins=100, color='g', alpha=0.5, label='dnn1')\n",
    "_ = plt.hist(gauc_dnn2, bins=100, color='b', alpha=0.5, label='dnn2')\n",
    "\n",
    "plt.xlabel('gAUC')\n",
    "plt.ylabel('Count')\n",
    "plt.title(\"gAUC Distribution\")\n",
    "plt.legend(loc=\"best\")\n",
    "plt.show()"
   ]
  },
  {
   "cell_type": "code",
   "execution_count": null,
   "id": "b24bceaa",
   "metadata": {},
   "outputs": [],
   "source": [
    "print(sum(gauc_fy_gbdt)/len(gauc_fy_gbdt))\n",
    "# print(sum(gauc_push_gbdt)/len(gauc_push_gbdt))\n",
    "print(sum(gauc_dnn1)/len(gauc_dnn1))\n",
    "print(sum(gauc_dnn2)/len(gauc_dnn2))"
   ]
  },
  {
   "cell_type": "markdown",
   "id": "ed599383",
   "metadata": {},
   "source": [
    "## number of candidates distribution for different gAUC (0, 0.5 1)"
   ]
  },
  {
   "cell_type": "code",
   "execution_count": null,
   "id": "d201e459",
   "metadata": {},
   "outputs": [],
   "source": []
  },
  {
   "cell_type": "code",
   "execution_count": null,
   "id": "27e87068",
   "metadata": {},
   "outputs": [],
   "source": []
  },
  {
   "cell_type": "code",
   "execution_count": null,
   "id": "d715ad14",
   "metadata": {},
   "outputs": [],
   "source": []
  },
  {
   "cell_type": "code",
   "execution_count": null,
   "id": "d3479880",
   "metadata": {},
   "outputs": [],
   "source": [
    "%%time\n",
    "\n",
    "## users filtering out: all candidates are True or all candidates are False\n",
    "gauc_fy_gbdt = []\n",
    "gauc_push_gbdt = []\n",
    "gauc_dnn1 = []\n",
    "gauc_dnn2 = []\n",
    "\n",
    "for d in user_fy_gbdt.values():\n",
    "    score = d['score']\n",
    "    label = d['label']\n",
    "    if sum(label) > 0 and sum(label) != len(label):\n",
    "        fpr, tpr, _ = roc_curve(label, score)\n",
    "        gauc_fy_gbdt.append(auc(fpr, tpr))\n",
    "print(sum(gauc_fy_gbdt)/len(gauc_fy_gbdt))\n",
    "        \n",
    "for d in user_push_gbdt.values():\n",
    "    score = d['score']\n",
    "    label = d['label']\n",
    "    if sum(label) > 0 and sum(label) != len(label):\n",
    "        fpr, tpr, _ = roc_curve(label, score)\n",
    "        gauc_push_gbdt.append(auc(fpr, tpr))\n",
    "print(sum(gauc_push_gbdt)/len(gauc_push_gbdt))\n",
    "      \n",
    "for d in user_dnn1.values():\n",
    "    score = d['score']\n",
    "    label = d['label']\n",
    "    if sum(label) > 0 and sum(label) != len(label):\n",
    "        fpr, tpr, _ = roc_curve(label, score)\n",
    "        gauc_dnn1.append(auc(fpr, tpr))\n",
    "print(sum(gauc_dnn1)/len(gauc_dnn1))\n",
    "      \n",
    "for d in user_dnn2.values():\n",
    "    score = d['score']\n",
    "    label = d['label']\n",
    "    if sum(label) > 0 and sum(label) != len(label):\n",
    "        fpr, tpr, _ = roc_curve(label, score)\n",
    "        gauc_dnn2.append(auc(fpr, tpr))\n",
    "print(sum(gauc_dnn2)/len(gauc_dnn2))"
   ]
  },
  {
   "cell_type": "code",
   "execution_count": null,
   "id": "d9dac773",
   "metadata": {},
   "outputs": [],
   "source": [
    "%%time\n",
    "# Concurrent process\n",
    "\n",
    "def gAUC(userNews: DefaultDict) -> float:\n",
    "    gauc = []\n",
    "    for d in userNews.values():\n",
    "        score = d['score']\n",
    "        label = d['label']\n",
    "        s = sum(label)\n",
    "        if s > 0 and s != len(label):\n",
    "            fpr, tpr, _ = roc_curve(label, score)\n",
    "            gauc.append(auc(fpr, tpr))\n",
    "    return sum(gauc)/len(gauc)\n",
    "       \n",
    "models = [user_fy_gbdt, user_push_gbdt, user_dnn1, user_dnn2]\n",
    "with concurrent.futures.ThreadPoolExecutor() as executor:\n",
    "    futures = [executor.submit(gAUC, param) for param in models]\n",
    "for f in futures:\n",
    "    print(f.result())"
   ]
  },
  {
   "cell_type": "code",
   "execution_count": null,
   "id": "cd199de4",
   "metadata": {},
   "outputs": [],
   "source": [
    "# topk = [1, 2, 3]\n",
    "\n",
    "# def getMeanTopkPrecision(d):\n",
    "#     for k in topk:\n",
    "#         p = 0\n",
    "#         for _, scores_labels in d.items():\n",
    "#             scores_labels.sort(reverse=True)\n",
    "#             p += sum(l for _, l in scores_labels[:k])/k\n",
    "#         p /= len(d)\n",
    "#         yield p\n",
    "       \n",
    "# print(f'fy-gbdt:', list(getMeanTopkPrecision(user_fy_gbdt)))\n",
    "# print(f'push-gbdt:', list(getMeanTopkPrecision(user_push_gbdt)))\n",
    "# print(f'dnn:', list(getMeanTopkPrecision(user_dnn)))"
   ]
  },
  {
   "cell_type": "code",
   "execution_count": null,
   "id": "266bec10",
   "metadata": {},
   "outputs": [],
   "source": [
    "# positive sample rate\n",
    "sum(label)/len(label)"
   ]
  },
  {
   "cell_type": "code",
   "execution_count": null,
   "id": "d7acfb9e",
   "metadata": {},
   "outputs": [],
   "source": [
    "# average number of samples per user\n",
    "sum(len(article) for article in user_fy_gbdt.values())/len(user_fy_gbdt)"
   ]
  },
  {
   "cell_type": "code",
   "execution_count": null,
   "id": "2b00c33b",
   "metadata": {},
   "outputs": [],
   "source": [
    "# how many users have more than 1 article\n",
    "print(f'#total users: {len(user_fy_gbdt)}')\n",
    "print(f'#users have 1 article: {sum(1 for article in user_fy_gbdt.values() if len(article) == 1)}')\n",
    "print(f'#users have 1 article and it is pos: {sum(1 for article in user_fy_gbdt.values() if (len(article) == 1) and sum(l for _, l in article)>0)}')\n",
    "print(f'#users have 2 article: {sum(1 for article in user_fy_gbdt.values() if len(article) == 2)}')\n",
    "print(f'#users have more than 2 article: {sum(1 for article in user_fy_gbdt.values() if len(article) > 2)}')"
   ]
  },
  {
   "cell_type": "code",
   "execution_count": null,
   "id": "ee997fb4",
   "metadata": {},
   "outputs": [],
   "source": [
    "# filter out users "
   ]
  },
  {
   "cell_type": "code",
   "execution_count": null,
   "id": "a6ee2579",
   "metadata": {},
   "outputs": [],
   "source": []
  }
 ],
 "metadata": {
  "kernelspec": {
   "display_name": "Python 3",
   "language": "python",
   "name": "python3"
  },
  "language_info": {
   "codemirror_mode": {
    "name": "ipython",
    "version": 3
   },
   "file_extension": ".py",
   "mimetype": "text/x-python",
   "name": "python",
   "nbconvert_exporter": "python",
   "pygments_lexer": "ipython3",
   "version": "3.7.10"
  }
 },
 "nbformat": 4,
 "nbformat_minor": 5
}
