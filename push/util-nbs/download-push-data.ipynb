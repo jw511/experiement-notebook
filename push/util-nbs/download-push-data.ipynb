{
 "cells": [
  {
   "cell_type": "code",
   "execution_count": 1,
   "id": "ba0ca902",
   "metadata": {},
   "outputs": [],
   "source": [
    "import tensorflow as tf\n",
    "import pushranker\n",
    "import datetime\n",
    "import snrf\n",
    "import importlib\n",
    "\n",
    "from pathlib import Path"
   ]
  },
  {
   "cell_type": "code",
   "execution_count": 2,
   "id": "26e1355d",
   "metadata": {},
   "outputs": [
    {
     "name": "stdout",
     "output_type": "stream",
     "text": [
      "../data/train\n",
      "../data/test\n"
     ]
    }
   ],
   "source": [
    "push_type = 'scheduled' # scheduled, targeted, local\n",
    "\n",
    "LOCAL_DATA_ROOT = Path('../data/')\n",
    "TRAIN_DATA_ROOT = str(LOCAL_DATA_ROOT / 'train')\n",
    "TEST_DATA_ROOT = str(LOCAL_DATA_ROOT / 'test')\n",
    "print(TRAIN_DATA_ROOT)\n",
    "print(TEST_DATA_ROOT)\n",
    "\n",
    "# training_format = snrf.package.get_obj_from_name(pushranker, 'survival_feature_spec.binarized_format')\n",
    "# input_module = pushranker.local_push\n",
    "input_module = importlib.import_module(f'pushranker.{push_type}_push')"
   ]
  },
  {
   "cell_type": "code",
   "execution_count": 3,
   "id": "3c76fd1d",
   "metadata": {},
   "outputs": [
    {
     "data": {
      "text/plain": [
       "<module 'pushranker.scheduled_push' from '/home/ec2-user/john.wu/push/push-ranker/container/pushranker/scheduled_push.py'>"
      ]
     },
     "execution_count": 3,
     "metadata": {},
     "output_type": "execute_result"
    }
   ],
   "source": [
    "input_module"
   ]
  },
  {
   "cell_type": "code",
   "execution_count": 4,
   "id": "708a1009",
   "metadata": {},
   "outputs": [
    {
     "data": {
      "text/plain": [
       "[({'edition': 'en_US', 'dt': '2021-06-23', 'hh': '00'},\n",
       "  '../data/test/edition=en_US/push_type=scheduled/dt=2021-06-23-00/'),\n",
       " ({'edition': 'en_US', 'dt': '2021-06-23', 'hh': '01'},\n",
       "  '../data/test/edition=en_US/push_type=scheduled/dt=2021-06-23-01/'),\n",
       " ({'edition': 'en_US', 'dt': '2021-06-23', 'hh': '02'},\n",
       "  '../data/test/edition=en_US/push_type=scheduled/dt=2021-06-23-02/'),\n",
       " ({'edition': 'en_US', 'dt': '2021-06-23', 'hh': '03'},\n",
       "  '../data/test/edition=en_US/push_type=scheduled/dt=2021-06-23-03/'),\n",
       " ({'edition': 'en_US', 'dt': '2021-06-23', 'hh': '04'},\n",
       "  '../data/test/edition=en_US/push_type=scheduled/dt=2021-06-23-04/'),\n",
       " ({'edition': 'en_US', 'dt': '2021-06-23', 'hh': '05'},\n",
       "  '../data/test/edition=en_US/push_type=scheduled/dt=2021-06-23-05/'),\n",
       " ({'edition': 'en_US', 'dt': '2021-06-23', 'hh': '06'},\n",
       "  '../data/test/edition=en_US/push_type=scheduled/dt=2021-06-23-06/'),\n",
       " ({'edition': 'en_US', 'dt': '2021-06-23', 'hh': '07'},\n",
       "  '../data/test/edition=en_US/push_type=scheduled/dt=2021-06-23-07/'),\n",
       " ({'edition': 'en_US', 'dt': '2021-06-23', 'hh': '08'},\n",
       "  '../data/test/edition=en_US/push_type=scheduled/dt=2021-06-23-08/'),\n",
       " ({'edition': 'en_US', 'dt': '2021-06-23', 'hh': '09'},\n",
       "  '../data/test/edition=en_US/push_type=scheduled/dt=2021-06-23-09/'),\n",
       " ({'edition': 'en_US', 'dt': '2021-06-23', 'hh': '10'},\n",
       "  '../data/test/edition=en_US/push_type=scheduled/dt=2021-06-23-10/'),\n",
       " ({'edition': 'en_US', 'dt': '2021-06-23', 'hh': '11'},\n",
       "  '../data/test/edition=en_US/push_type=scheduled/dt=2021-06-23-11/'),\n",
       " ({'edition': 'en_US', 'dt': '2021-06-23', 'hh': '12'},\n",
       "  '../data/test/edition=en_US/push_type=scheduled/dt=2021-06-23-12/'),\n",
       " ({'edition': 'en_US', 'dt': '2021-06-23', 'hh': '13'},\n",
       "  '../data/test/edition=en_US/push_type=scheduled/dt=2021-06-23-13/'),\n",
       " ({'edition': 'en_US', 'dt': '2021-06-23', 'hh': '14'},\n",
       "  '../data/test/edition=en_US/push_type=scheduled/dt=2021-06-23-14/'),\n",
       " ({'edition': 'en_US', 'dt': '2021-06-23', 'hh': '15'},\n",
       "  '../data/test/edition=en_US/push_type=scheduled/dt=2021-06-23-15/'),\n",
       " ({'edition': 'en_US', 'dt': '2021-06-23', 'hh': '16'},\n",
       "  '../data/test/edition=en_US/push_type=scheduled/dt=2021-06-23-16/'),\n",
       " ({'edition': 'en_US', 'dt': '2021-06-23', 'hh': '17'},\n",
       "  '../data/test/edition=en_US/push_type=scheduled/dt=2021-06-23-17/'),\n",
       " ({'edition': 'en_US', 'dt': '2021-06-23', 'hh': '18'},\n",
       "  '../data/test/edition=en_US/push_type=scheduled/dt=2021-06-23-18/'),\n",
       " ({'edition': 'en_US', 'dt': '2021-06-23', 'hh': '19'},\n",
       "  '../data/test/edition=en_US/push_type=scheduled/dt=2021-06-23-19/'),\n",
       " ({'edition': 'en_US', 'dt': '2021-06-23', 'hh': '20'},\n",
       "  '../data/test/edition=en_US/push_type=scheduled/dt=2021-06-23-20/'),\n",
       " ({'edition': 'en_US', 'dt': '2021-06-23', 'hh': '21'},\n",
       "  '../data/test/edition=en_US/push_type=scheduled/dt=2021-06-23-21/'),\n",
       " ({'edition': 'en_US', 'dt': '2021-06-23', 'hh': '22'},\n",
       "  '../data/test/edition=en_US/push_type=scheduled/dt=2021-06-23-22/'),\n",
       " ({'edition': 'en_US', 'dt': '2021-06-23', 'hh': '23'},\n",
       "  '../data/test/edition=en_US/push_type=scheduled/dt=2021-06-23-23/')]"
      ]
     },
     "execution_count": 4,
     "metadata": {},
     "output_type": "execute_result"
    }
   ],
   "source": [
    "# sdt = datetime.datetime(year=2021, month=6, day=23, hour=0)\n",
    "# edt = datetime.datetime(year=2021, month=6, day=23, hour=23)\n",
    "\n",
    "test_sdt = datetime.datetime(year=2021, month=6, day=23, hour=0)\n",
    "test_edt = datetime.datetime(year=2021, month=6, day=23, hour=23)\n",
    "\n",
    "# train_partitions = [dict(edition='en_US',\n",
    "#                          dt=hour.strftime(snrf.randomutil.DATE_FORMAT),\n",
    "#                          hh=hour.strftime(snrf.randomutil.HOUR_FORMAT))\n",
    "#                     for hour in snrf.randomutil.iter_hours(sdt, edt)]\n",
    "\n",
    "test_partitions = [dict(edition='en_US',\n",
    "                        dt=hour.strftime(snrf.randomutil.DATE_FORMAT),\n",
    "                        hh=hour.strftime(snrf.randomutil.HOUR_FORMAT))\n",
    "                   for hour in snrf.randomutil.iter_hours(test_sdt, test_edt)]\n",
    "\n",
    "# list(snrf.util.sync_remote_data_to_local(input_module.DEFAULT_DATA_ROOT,\n",
    "#                                         TRAIN_DATA_ROOT,\n",
    "#                                         input_module.DEFAULT_PARTITION_FMT,\n",
    "#                                         train_partitions))\n",
    "list(snrf.util.sync_remote_data_to_local(input_module.DEFAULT_DATA_ROOT,\n",
    "                                        TEST_DATA_ROOT,\n",
    "                                        input_module.DEFAULT_PARTITION_FMT,\n",
    "                                        test_partitions))"
   ]
  },
  {
   "cell_type": "code",
   "execution_count": null,
   "id": "641697ab",
   "metadata": {},
   "outputs": [],
   "source": []
  }
 ],
 "metadata": {
  "kernelspec": {
   "display_name": "Python 3",
   "language": "python",
   "name": "python3"
  },
  "language_info": {
   "codemirror_mode": {
    "name": "ipython",
    "version": 3
   },
   "file_extension": ".py",
   "mimetype": "text/x-python",
   "name": "python",
   "nbconvert_exporter": "python",
   "pygments_lexer": "ipython3",
   "version": "3.7.10"
  }
 },
 "nbformat": 4,
 "nbformat_minor": 5
}
