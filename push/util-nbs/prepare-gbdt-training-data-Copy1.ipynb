{
 "cells": [
  {
   "cell_type": "code",
   "execution_count": 9,
   "id": "d3568aa9",
   "metadata": {},
   "outputs": [],
   "source": [
    "import importlib\n",
    "import snrf\n",
    "import pushranker\n",
    "import numpy as np\n",
    "from pathlib import Path\n",
    "from typing import List, Dict, Tuple"
   ]
  },
  {
   "cell_type": "code",
   "execution_count": 10,
   "id": "7f27fa7f",
   "metadata": {},
   "outputs": [
    {
     "name": "stdout",
     "output_type": "stream",
     "text": [
      "data/train/edition=en_US/push_type=scheduled/0424\n"
     ]
    }
   ],
   "source": [
    "push_type = 'scheduled' # local, targeted, scheduled\n",
    "day = '0424'\n",
    "\n",
    "LOCAL_DATA_ROOT = Path('../data/')\n",
    "TRAIN_DATA_ROOT = str(LOCAL_DATA_ROOT / 'train' / 'edition=en_US' / f'push_type={push_type}' / day) # / 'dt=2021-04-30-00')\n",
    "# TEST_DATA_ROOT = str(LOCAL_DATA_ROOT / 'test' / 'edition=en_US' / f'push_type={push_type}') # / 'dt=2021-05-01-00')\n",
    "\n",
    "training_format = snrf.package.get_obj_from_name(pushranker, 'survival_feature_spec.binarized_format')\n",
    "\n",
    "# input_module = pushranker.local_push\n",
    "input_module = importlib.import_module(f'pushranker.{push_type}_push')\n",
    "\n",
    "print(TRAIN_DATA_ROOT)\n",
    "# print(TEST_DATA_ROOT)"
   ]
  },
  {
   "cell_type": "code",
   "execution_count": 11,
   "id": "be21a37f",
   "metadata": {},
   "outputs": [
    {
     "data": {
      "text/plain": [
       "tensorflow.python.data.ops.dataset_ops.PrefetchDataset"
      ]
     },
     "execution_count": 11,
     "metadata": {},
     "output_type": "execute_result"
    }
   ],
   "source": [
    "def prepare(root, shuffle=None):\n",
    "    ds = snrf.tfrecord.read_dataset_from_files(root)\n",
    "#     ds = ds.shuffle(10000)\n",
    "    ds = snrf.tfrecord.prepare_dataset_for_use(ds,\n",
    "                                               input_module.input_spec,\n",
    "                                               shuffle=shuffle,\n",
    "                                               training_format=training_format)\n",
    "    return ds\n",
    "\n",
    "train_ds = prepare(TRAIN_DATA_ROOT, 10000)\n",
    "# test_ds = prepare(TEST_DATA_ROOT)\n",
    "type(train_ds)"
   ]
  },
  {
   "cell_type": "code",
   "execution_count": 12,
   "id": "2e7aeb33",
   "metadata": {},
   "outputs": [],
   "source": [
    "# Transform push-ranker data for GBDT\n",
    "numeric_features = ['predicted_ctr']\n",
    "dense_features = ['cgScores', 'a_stats', 'af_dense', 'uf_dense', 'u_hhs']\n",
    "dense_features_len = [10, 36, 9, 10, 24]\n",
    "# sparse_features = [\n",
    "#     'push_id', 'u_cate','u_catev2', 'u_hist_ids', 'u_pub', 'u_pub_ctr', 'u_kw',\n",
    "#     'a_catev2', 'a_features', 'a_site_id', 'a_kw', 'a_tw'\n",
    "# ]\n",
    "\n",
    "def build_numeric_feature(batch) -> List[float]:\n",
    "    samples = list()\n",
    "    i = 0\n",
    "    while True:\n",
    "        value = list()\n",
    "        try:\n",
    "            for f in numeric_features:\n",
    "                value.append(batch[0][f][i])\n",
    "        except IndexError:\n",
    "            break\n",
    "        else:\n",
    "            samples.append(value)\n",
    "            i += 1\n",
    "    return samples\n",
    "    \n",
    "\n",
    "def build_dense_feature(batch) -> List[List[float]]:\n",
    "    samples = list()\n",
    "    i = 0\n",
    "    while True:\n",
    "        feat_vec = list()\n",
    "        try:\n",
    "            for f in dense_features:\n",
    "                feat_vec.extend(list(batch[0][f][i]))\n",
    "        except IndexError:\n",
    "            break\n",
    "        else:\n",
    "            samples.append(feat_vec)\n",
    "            i += 1\n",
    "    return samples\n",
    "    \n",
    "\n",
    "def build_sparse_feature_dict(batch) -> List[Dict]:\n",
    "    samples = list()\n",
    "    i = 0\n",
    "    while True:\n",
    "        featureDict = dict()\n",
    "        try:\n",
    "            for f in sparse_features:\n",
    "                if f == 'push_id':\n",
    "                    featureDict[f] = str(batch[0][f][i])  \n",
    "                else:\n",
    "                    featureDict[f] = [str(val) for idx, val in np.ndenumerate(batch[0][f][i]) if val]       \n",
    "        except IndexError:\n",
    "            break\n",
    "        else:\n",
    "            samples.append(featureDict)\n",
    "            i += 1\n",
    "    return samples"
   ]
  },
  {
   "cell_type": "code",
   "execution_count": 13,
   "id": "dc0591b2",
   "metadata": {},
   "outputs": [],
   "source": [
    "# prepare training data\n",
    "numeric_feat = list()\n",
    "dense_feat = list()\n",
    "sparse_samples = list()\n",
    "\n",
    "for batch in train_ds.as_numpy_iterator():\n",
    "    numeric_feat.extend(build_numeric_feature(batch))\n",
    "    dense_feat.extend(build_dense_feature(batch))\n",
    "#     sparse_samples.extend(build_sparse_feature_dict(batch))\n",
    "    \n",
    "numeric_feature = np.array(numeric_feat)\n",
    "numeric_feat.clear()\n",
    "dense_feature = np.array(dense_feat)\n",
    "dense_feat.clear()\n",
    "# dense_feature_column = [f'{df}_{i}' for df, l in zip(dense_features, dense_features_len) for i in range(l)]\n",
    "\n",
    "# build sparse features transformer\n",
    "# vec = DictVectorizer()\n",
    "# sparse_feature = vec.fit_transform(sparse_samples).toarray()\n",
    "# sparse_samples.clear()\n",
    "# sparse_feature_column = vec.feature_names_\n",
    "# sparse_feature.shape"
   ]
  },
  {
   "cell_type": "code",
   "execution_count": 14,
   "id": "cbb3c147",
   "metadata": {},
   "outputs": [
    {
     "data": {
      "text/plain": [
       "(32984524, 90)"
      ]
     },
     "execution_count": 14,
     "metadata": {},
     "output_type": "execute_result"
    }
   ],
   "source": [
    "# merge training data\n",
    "# feature_columns = numeric_features + dense_feature_column# + sparse_feature_column\n",
    "train_X = np.hstack((numeric_feature, dense_feature))#, sparse_feature))\n",
    "train_X.shape"
   ]
  },
  {
   "cell_type": "code",
   "execution_count": 15,
   "id": "e33ba09c",
   "metadata": {},
   "outputs": [],
   "source": [
    "np.save(str(LOCAL_DATA_ROOT / 'gbdt' / f'{push_type}-trainX-{day}.npy'), train_X)"
   ]
  },
  {
   "cell_type": "code",
   "execution_count": 16,
   "id": "7fa6fb3c",
   "metadata": {},
   "outputs": [
    {
     "name": "stdout",
     "output_type": "stream",
     "text": [
      "32984524\n"
     ]
    }
   ],
   "source": [
    "# prepare labels\n",
    "train_y = list()\n",
    "\n",
    "for train in train_ds:\n",
    "    train_y.extend(list(np.array(train[1])))\n",
    "train_y = np.array(train_y)\n",
    "print(len(train_y))\n",
    "np.save(str(LOCAL_DATA_ROOT / 'gbdt' / f'{push_type}-trainy-{day}.npy'), train_y)\n"
   ]
  },
  {
   "cell_type": "code",
   "execution_count": null,
   "id": "0264e0a3",
   "metadata": {},
   "outputs": [],
   "source": []
  }
 ],
 "metadata": {
  "kernelspec": {
   "display_name": "Python 3",
   "language": "python",
   "name": "python3"
  },
  "language_info": {
   "codemirror_mode": {
    "name": "ipython",
    "version": 3
   },
   "file_extension": ".py",
   "mimetype": "text/x-python",
   "name": "python",
   "nbconvert_exporter": "python",
   "pygments_lexer": "ipython3",
   "version": "3.7.10"
  }
 },
 "nbformat": 4,
 "nbformat_minor": 5
}
