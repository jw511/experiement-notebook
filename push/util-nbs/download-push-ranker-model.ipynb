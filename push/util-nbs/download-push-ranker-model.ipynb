{
 "cells": [
  {
   "cell_type": "code",
   "execution_count": 1,
   "id": "b4123e44",
   "metadata": {},
   "outputs": [],
   "source": [
    "import tensorflow as tf\n",
    "import datetime\n",
    "import pushranker\n",
    "import snrf\n",
    "import importlib\n",
    "import os\n",
    "\n",
    "from pathlib import Path"
   ]
  },
  {
   "cell_type": "code",
   "execution_count": 1,
   "id": "420b1867",
   "metadata": {},
   "outputs": [
    {
     "name": "stdout",
     "output_type": "stream",
     "text": [
      "s3://smartnews-recsys/model/push-ranker/version=scheduled-prod/edition=en_US/dt=2021-06-22-05/model.tar.gz ../model/scheduled-push/push-GBDT/0622/\n"
     ]
    }
   ],
   "source": [
    "# Download the trained model\n",
    "push_type = 'scheduled'\n",
    "model_name = 'push-GBDT' # <= assign model name!\n",
    "\n",
    "\n",
    "dt = '2021-04-30-03' # scheduled\n",
    "dt = '2021-04-30-13' # targeted\n",
    "# dt = '2021-04-30-11' # local\n",
    "# dt = '2021-05-16-06' # scheduled_less_ids\n",
    "dt = '2021-06-22-05' \n",
    "\n",
    "s3_model_path = f's3://smartnews-recsys/model/push-ranker/version={push_type}-prod/edition=en_US/dt={dt}/model.tar.gz'\n",
    "date = ''.join(dt.rsplit('-')[1:-1])\n",
    "local_model_path = f'../model/{push_type}-push/{model_name}/{date}/'\n",
    "cp_path = s3_model_path + \" \" + local_model_path\n",
    "print(cp_path)"
   ]
  },
  {
   "cell_type": "code",
   "execution_count": 3,
   "id": "e572dc17",
   "metadata": {},
   "outputs": [
    {
     "data": {
      "text/plain": [
       "0"
      ]
     },
     "execution_count": 3,
     "metadata": {},
     "output_type": "execute_result"
    }
   ],
   "source": [
    "os.system('aws s3 cp ' + cp_path)"
   ]
  },
  {
   "cell_type": "code",
   "execution_count": 4,
   "id": "2e1a3cbe",
   "metadata": {},
   "outputs": [
    {
     "data": {
      "text/plain": [
       "0"
      ]
     },
     "execution_count": 4,
     "metadata": {},
     "output_type": "execute_result"
    }
   ],
   "source": [
    "os.system(f'tar xf {local_model_path}model.tar.gz -C {local_model_path}')"
   ]
  },
  {
   "cell_type": "code",
   "execution_count": null,
   "id": "01f75186",
   "metadata": {},
   "outputs": [],
   "source": []
  }
 ],
 "metadata": {
  "kernelspec": {
   "display_name": "Python 3",
   "language": "python",
   "name": "python3"
  },
  "language_info": {
   "codemirror_mode": {
    "name": "ipython",
    "version": 3
   },
   "file_extension": ".py",
   "mimetype": "text/x-python",
   "name": "python",
   "nbconvert_exporter": "python",
   "pygments_lexer": "ipython3",
   "version": "3.7.10"
  }
 },
 "nbformat": 4,
 "nbformat_minor": 5
}
