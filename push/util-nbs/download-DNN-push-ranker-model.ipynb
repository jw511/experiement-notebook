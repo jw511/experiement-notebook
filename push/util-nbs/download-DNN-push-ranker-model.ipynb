{
 "cells": [
  {
   "cell_type": "code",
   "execution_count": 10,
   "id": "b4123e44",
   "metadata": {},
   "outputs": [],
   "source": [
    "import tensorflow as tf\n",
    "import datetime\n",
    "import pushranker\n",
    "import snrf\n",
    "import importlib\n",
    "import os\n",
    "\n",
    "from pathlib import Path"
   ]
  },
  {
   "cell_type": "code",
   "execution_count": 11,
   "id": "420b1867",
   "metadata": {},
   "outputs": [
    {
     "name": "stdout",
     "output_type": "stream",
     "text": [
      "s3://smartnews-recsys/model/push-ranker/version=targeted-prod/edition=en_US/dt=2021-04-30-13/model.tar.gz ../model/targeted-push/DNN/original--2021-04-30/\n"
     ]
    },
    {
     "data": {
      "text/plain": [
       "0"
      ]
     },
     "execution_count": 11,
     "metadata": {},
     "output_type": "execute_result"
    }
   ],
   "source": [
    "# Download the trained model\n",
    "push_type = 'targeted'\n",
    "model_name = 'original--0430' # <= assign model name!\n",
    "\n",
    "dt = '2021-04-30-03' # scheduled\n",
    "dt = '2021-04-30-13' # targeted\n",
    "# dt = '2021-04-30-11' # local\n",
    "# dt = '2021-05-16-06' # scheduled_less_ids\n",
    "\n",
    "s3_model_path = f's3://smartnews-recsys/model/push-ranker/version={push_type}-prod/edition=en_US/dt={dt}/model.tar.gz'\n",
    "local_model_path = f'../model/{push_type}-push/DNN/{model_name}/'\n",
    "cp_path = s3_model_path + \" \" + local_model_path\n",
    "print(cp_path)\n",
    "os.system('aws s3 cp ' + cp_path)"
   ]
  },
  {
   "cell_type": "code",
   "execution_count": 12,
   "id": "2e1a3cbe",
   "metadata": {},
   "outputs": [
    {
     "data": {
      "text/plain": [
       "0"
      ]
     },
     "execution_count": 12,
     "metadata": {},
     "output_type": "execute_result"
    }
   ],
   "source": [
    "os.system(f'tar xf {local_model_path}model.tar.gz -C {local_model_path}')"
   ]
  },
  {
   "cell_type": "code",
   "execution_count": null,
   "id": "2775fc09",
   "metadata": {},
   "outputs": [],
   "source": []
  }
 ],
 "metadata": {
  "kernelspec": {
   "display_name": "Python 3",
   "language": "python",
   "name": "python3"
  },
  "language_info": {
   "codemirror_mode": {
    "name": "ipython",
    "version": 3
   },
   "file_extension": ".py",
   "mimetype": "text/x-python",
   "name": "python",
   "nbconvert_exporter": "python",
   "pygments_lexer": "ipython3",
   "version": "3.7.10"
  }
 },
 "nbformat": 4,
 "nbformat_minor": 5
}
